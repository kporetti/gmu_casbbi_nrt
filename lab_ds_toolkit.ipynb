{
  "cells": [
    {
      "cell_type": "markdown",
      "metadata": {
        "id": "JfqUwCPH0Nzu"
      },
      "source": [
        "# Activity - Data Science Toolkit"
      ]
    },
    {
      "cell_type": "markdown",
      "metadata": {
        "id": "ZVBpW1wQ0N0H"
      },
      "source": [
        "1. Create a GitHub account in the following [link](https://github.com/join).\n",
        "1. Create a GitHub repository named `gmu_casbbi_nrt`. You can do it directly here https://github.com/new.\n",
        "1. Launch this file in Google Colab pressing the `Launch Botton` in the upper right corner and then select `Colab`.\n",
        "1. Modify the next cell with your answers.\n",
        "1. Run all the cells.\n",
        "1. Save the notebook as `about_me.ipynb` in your local files.\n",
        "1. Upload it to your GitHub repository you just created."
      ]
    },
    {
      "cell_type": "code",
      "execution_count": null,
      "metadata": {
        "id": "_S8IXO6a0N0Q"
      },
      "outputs": [],
      "source": [
        "name = \"Kelly Poretti\"\n",
        "i_am_from = \"Jackson, NJ\"\n",
        "program = \"Kinesiology Ph.D.\"\n",
        "about_me = \"I like baking and running\"\n",
        "fun_fact = \"I don't have one lol\"\n",
        "reason_apply = \"I really enjoy working in interdisciplinary teams and learn about everything\""
      ]
    },
    {
      "cell_type": "code",
      "execution_count": null,
      "metadata": {
        "id": "7j3c6X9k0N0a"
      },
      "outputs": [],
      "source": [
        "print(\n",
        "    f\"\"\"\n",
        "    My name is {name}, I am from {i_am_from} and I am enrolled in the {program} program at GMU.\n",
        "\n",
        "    {about_me}. And a fun fact about me is that {fun_fact}.\n",
        "\n",
        "    I applied to the CASBBI's NRT program because {reason_apply}.\n",
        "    \"\"\"\n",
        ")"
      ]
    }
  ],
  "metadata": {
    "kernelspec": {
      "display_name": "casbbi-nrt-ds",
      "language": "python",
      "name": "python3"
    },
    "language_info": {
      "codemirror_mode": {
        "name": "ipython",
        "version": 3
      },
      "file_extension": ".py",
      "mimetype": "text/x-python",
      "name": "python",
      "nbconvert_exporter": "python",
      "pygments_lexer": "ipython3",
      "version": "3.11.0"
    },
    "orig_nbformat": 4,
    "colab": {
      "provenance": []
    }
  },
  "nbformat": 4,
  "nbformat_minor": 0
}